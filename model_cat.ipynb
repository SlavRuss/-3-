{
 "cells": [
  {
   "cell_type": "code",
   "execution_count": 3,
   "id": "c9b469fb-fb51-4ec8-a8a2-acdac94972d5",
   "metadata": {},
   "outputs": [],
   "source": [
    "import tensorflow as tf\n",
    "from tensorflow import keras\n",
    "from tensorflow.keras import layers\n",
    "import matplotlib.pyplot as plt\n",
    "import numpy as np\n",
    "import os\n",
    "import shutil\n",
    "from tensorflow.keras.preprocessing.image import ImageDataGenerator"
   ]
  },
  {
   "cell_type": "code",
   "execution_count": 4,
   "id": "99885247-9f8d-4b2b-9f4e-047a650821cb",
   "metadata": {},
   "outputs": [],
   "source": [
    "folder_path = 'Cat'\n",
    "checkpoints_path = os.path.join(folder_path, '.ipynb_checkpoints')"
   ]
  },
  {
   "cell_type": "code",
   "execution_count": 5,
   "id": "22f140fd-701c-4186-8c13-2403a155bc58",
   "metadata": {},
   "outputs": [
    {
     "name": "stdout",
     "output_type": "stream",
     "text": [
      "Актуальное содержимое папки: ['Bengal_Cat', 'Oriental_cat', 'Russian_blue_cat', 'Snowshoe_cat', 'Street_cats', 'The_Abyssinian_cat', 'The_British_cat', 'The_Maine_Coon_cat', 'The_Scottish_Fold', 'The_Sphinx_cat']\n",
      "Количество элементов после очистки: 10\n"
     ]
    }
   ],
   "source": [
    "if os.path.exists(checkpoints_path):\n",
    "    try:\n",
    "        if os.path.isdir(checkpoints_path):\n",
    "            shutil.rmtree(checkpoints_path) \n",
    "        else:\n",
    "            os.remove(checkpoints_path)\n",
    "        print(f\"Удалена служебная папка: {checkpoints_path}\")\n",
    "    except Exception as e:\n",
    "        print(f\"Ошибка при удалении {checkpoints_path}: {e}\")\n",
    "print(\"Актуальное содержимое папки:\", os.listdir(folder_path))\n",
    "print(\"Количество элементов после очистки:\", len(os.listdir(folder_path)))"
   ]
  },
  {
   "cell_type": "code",
   "execution_count": 6,
   "id": "b790f975-ba4b-465a-b481-1d2422dd065a",
   "metadata": {},
   "outputs": [],
   "source": [
    "batch_size = 32\n",
    "img_height = 256\n",
    "img_width = 256"
   ]
  },
  {
   "cell_type": "code",
   "execution_count": 7,
   "id": "00e0372e-be9e-4193-bdc6-da9f624593e9",
   "metadata": {},
   "outputs": [],
   "source": [
    "class_names = ['Bengal_Cat', 'Oriental_cat', 'Russian_blue_cat', 'Snowshoe_cat', 'Street_cats', 'The_Abyssinian_cat', 'The_British_cat', 'The_Maine_Coon_cat', 'The_Scottish_Fold', 'The_Sphinx_cat']"
   ]
  },
  {
   "cell_type": "code",
   "execution_count": 8,
   "id": "f01e2c21-ca84-4810-87a5-6edb445a2aca",
   "metadata": {},
   "outputs": [],
   "source": [
    "train_datagen = ImageDataGenerator(\n",
    "    rescale=1./255,\n",
    "    rotation_range=20,\n",
    "    width_shift_range=0.2,\n",
    "    height_shift_range=0.2,\n",
    "    shear_range=0.2,\n",
    "    zoom_range=0.2,\n",
    "    horizontal_flip=True,\n",
    "    fill_mode='nearest',\n",
    "    validation_split=0.2)"
   ]
  },
  {
   "cell_type": "code",
   "execution_count": 9,
   "id": "b569fc43-c215-4718-9196-2f69ffd0661b",
   "metadata": {},
   "outputs": [
    {
     "name": "stdout",
     "output_type": "stream",
     "text": [
      "Found 803 images belonging to 10 classes.\n"
     ]
    }
   ],
   "source": [
    "train_generator = train_datagen.flow_from_directory(\n",
    "    folder_path,\n",
    "    target_size=(img_height, img_width),\n",
    "    batch_size=batch_size,\n",
    "    class_mode='categorical',\n",
    "    classes=class_names,  \n",
    "    subset='training')"
   ]
  },
  {
   "cell_type": "code",
   "execution_count": 10,
   "id": "4c2b3968-ea10-4e7c-8384-608cb53a9d18",
   "metadata": {},
   "outputs": [
    {
     "name": "stdout",
     "output_type": "stream",
     "text": [
      "Found 199 images belonging to 10 classes.\n"
     ]
    }
   ],
   "source": [
    "validation_generator = train_datagen.flow_from_directory(\n",
    "    folder_path,\n",
    "    target_size=(img_height, img_width),\n",
    "    batch_size=batch_size,\n",
    "    class_mode='categorical',\n",
    "    classes=class_names,\n",
    "    subset='validation')"
   ]
  },
  {
   "cell_type": "code",
   "execution_count": 11,
   "id": "f17ce01e-8ccb-4653-a886-6bab6f6c6927",
   "metadata": {},
   "outputs": [
    {
     "name": "stdout",
     "output_type": "stream",
     "text": [
      "\n",
      "Обнаружено классов: 10\n",
      "Соответствие классов: {'Bengal_Cat': 0, 'Oriental_cat': 1, 'Russian_blue_cat': 2, 'Snowshoe_cat': 3, 'Street_cats': 4, 'The_Abyssinian_cat': 5, 'The_British_cat': 6, 'The_Maine_Coon_cat': 7, 'The_Scottish_Fold': 8, 'The_Sphinx_cat': 9}\n"
     ]
    }
   ],
   "source": [
    "print(f\"\\nОбнаружено классов: {len(train_generator.class_indices)}\")\n",
    "print(\"Соответствие классов:\", train_generator.class_indices)"
   ]
  },
  {
   "cell_type": "code",
   "execution_count": 12,
   "id": "401f1e3b-9f5b-4d88-ad78-73272cfc1966",
   "metadata": {},
   "outputs": [],
   "source": [
    "model = keras.Sequential([\n",
    "    layers.Input(shape=(img_height, img_width, 3)),  \n",
    "    layers.Conv2D(32, (3, 3), activation='relu'),\n",
    "    layers.BatchNormalization(),\n",
    "    layers.MaxPooling2D(pool_size=(2, 2)),\n",
    "    layers.Dropout(0.25),\n",
    "\n",
    "    layers.Conv2D(64, (3, 3), activation='relu'),\n",
    "    layers.BatchNormalization(),\n",
    "    layers.MaxPooling2D(pool_size=(2, 2)),\n",
    "    layers.Dropout(0.25),\n",
    "\n",
    "    layers.Conv2D(128, (3, 3), activation='relu'),\n",
    "    layers.BatchNormalization(),\n",
    "    layers.MaxPooling2D(pool_size=(2, 2)),\n",
    "    layers.Dropout(0.25),\n",
    "\n",
    "    layers.Flatten(),\n",
    "    layers.Dense(256, activation='relu'),\n",
    "    layers.BatchNormalization(),\n",
    "    layers.Dropout(0.5),\n",
    "    layers.Dense(len(class_names), activation='softmax') \n",
    "])"
   ]
  },
  {
   "cell_type": "code",
   "execution_count": 13,
   "id": "dfbb75cd-7ba3-49a1-bf27-61335be3ee8d",
   "metadata": {},
   "outputs": [],
   "source": [
    "model.compile(optimizer='adam',\n",
    "              loss='categorical_crossentropy',\n",
    "              metrics=['accuracy'])"
   ]
  },
  {
   "cell_type": "code",
   "execution_count": 14,
   "id": "0d14ed58-048a-47ce-b43b-69949df5f9dd",
   "metadata": {},
   "outputs": [
    {
     "name": "stderr",
     "output_type": "stream",
     "text": [
      "C:\\Users\\User\\my_jupyter_env\\lib\\site-packages\\keras\\src\\trainers\\data_adapters\\py_dataset_adapter.py:121: UserWarning: Your `PyDataset` class should call `super().__init__(**kwargs)` in its constructor. `**kwargs` can include `workers`, `use_multiprocessing`, `max_queue_size`. Do not pass these arguments to `fit()`, as they will be ignored.\n",
      "  self._warn_if_super_not_called()\n"
     ]
    },
    {
     "name": "stdout",
     "output_type": "stream",
     "text": [
      "Epoch 1/20\n",
      "\u001b[1m26/26\u001b[0m \u001b[32m━━━━━━━━━━━━━━━━━━━━\u001b[0m\u001b[37m\u001b[0m \u001b[1m58s\u001b[0m 2s/step - accuracy: 0.1502 - loss: 3.4608 - val_accuracy: 0.1055 - val_loss: 25.9566\n",
      "Epoch 2/20\n",
      "\u001b[1m26/26\u001b[0m \u001b[32m━━━━━━━━━━━━━━━━━━━━\u001b[0m\u001b[37m\u001b[0m \u001b[1m48s\u001b[0m 2s/step - accuracy: 0.1721 - loss: 2.6711 - val_accuracy: 0.0955 - val_loss: 23.1567\n",
      "Epoch 3/20\n",
      "\u001b[1m26/26\u001b[0m \u001b[32m━━━━━━━━━━━━━━━━━━━━\u001b[0m\u001b[37m\u001b[0m \u001b[1m48s\u001b[0m 2s/step - accuracy: 0.1649 - loss: 2.6521 - val_accuracy: 0.0955 - val_loss: 23.1523\n",
      "Epoch 4/20\n",
      "\u001b[1m26/26\u001b[0m \u001b[32m━━━━━━━━━━━━━━━━━━━━\u001b[0m\u001b[37m\u001b[0m \u001b[1m52s\u001b[0m 2s/step - accuracy: 0.2392 - loss: 2.4792 - val_accuracy: 0.0905 - val_loss: 20.8791\n",
      "Epoch 5/20\n",
      "\u001b[1m26/26\u001b[0m \u001b[32m━━━━━━━━━━━━━━━━━━━━\u001b[0m\u001b[37m\u001b[0m \u001b[1m54s\u001b[0m 2s/step - accuracy: 0.1742 - loss: 2.6200 - val_accuracy: 0.1005 - val_loss: 8.2171\n",
      "Epoch 6/20\n",
      "\u001b[1m26/26\u001b[0m \u001b[32m━━━━━━━━━━━━━━━━━━━━\u001b[0m\u001b[37m\u001b[0m \u001b[1m54s\u001b[0m 2s/step - accuracy: 0.1906 - loss: 2.5444 - val_accuracy: 0.1106 - val_loss: 5.5466\n",
      "Epoch 7/20\n",
      "\u001b[1m26/26\u001b[0m \u001b[32m━━━━━━━━━━━━━━━━━━━━\u001b[0m\u001b[37m\u001b[0m \u001b[1m54s\u001b[0m 2s/step - accuracy: 0.2528 - loss: 2.4055 - val_accuracy: 0.0955 - val_loss: 3.7390\n",
      "Epoch 8/20\n",
      "\u001b[1m26/26\u001b[0m \u001b[32m━━━━━━━━━━━━━━━━━━━━\u001b[0m\u001b[37m\u001b[0m \u001b[1m58s\u001b[0m 2s/step - accuracy: 0.2639 - loss: 2.2653 - val_accuracy: 0.1307 - val_loss: 3.5609\n",
      "Epoch 9/20\n",
      "\u001b[1m26/26\u001b[0m \u001b[32m━━━━━━━━━━━━━━━━━━━━\u001b[0m\u001b[37m\u001b[0m \u001b[1m59s\u001b[0m 2s/step - accuracy: 0.2723 - loss: 2.3119 - val_accuracy: 0.0955 - val_loss: 9.5575\n",
      "Epoch 10/20\n",
      "\u001b[1m26/26\u001b[0m \u001b[32m━━━━━━━━━━━━━━━━━━━━\u001b[0m\u001b[37m\u001b[0m \u001b[1m55s\u001b[0m 2s/step - accuracy: 0.2760 - loss: 2.2914 - val_accuracy: 0.1457 - val_loss: 6.1488\n",
      "Epoch 11/20\n",
      "\u001b[1m26/26\u001b[0m \u001b[32m━━━━━━━━━━━━━━━━━━━━\u001b[0m\u001b[37m\u001b[0m \u001b[1m55s\u001b[0m 2s/step - accuracy: 0.2960 - loss: 2.1726 - val_accuracy: 0.1558 - val_loss: 4.9453\n",
      "Epoch 12/20\n",
      "\u001b[1m26/26\u001b[0m \u001b[32m━━━━━━━━━━━━━━━━━━━━\u001b[0m\u001b[37m\u001b[0m \u001b[1m56s\u001b[0m 2s/step - accuracy: 0.2588 - loss: 2.2531 - val_accuracy: 0.1206 - val_loss: 3.9836\n",
      "Epoch 13/20\n",
      "\u001b[1m26/26\u001b[0m \u001b[32m━━━━━━━━━━━━━━━━━━━━\u001b[0m\u001b[37m\u001b[0m \u001b[1m53s\u001b[0m 2s/step - accuracy: 0.2797 - loss: 2.1008 - val_accuracy: 0.1307 - val_loss: 3.7005\n",
      "Epoch 14/20\n",
      "\u001b[1m26/26\u001b[0m \u001b[32m━━━━━━━━━━━━━━━━━━━━\u001b[0m\u001b[37m\u001b[0m \u001b[1m57s\u001b[0m 2s/step - accuracy: 0.2906 - loss: 2.1274 - val_accuracy: 0.1256 - val_loss: 4.0210\n",
      "Epoch 15/20\n",
      "\u001b[1m26/26\u001b[0m \u001b[32m━━━━━━━━━━━━━━━━━━━━\u001b[0m\u001b[37m\u001b[0m \u001b[1m59s\u001b[0m 2s/step - accuracy: 0.3128 - loss: 1.9664 - val_accuracy: 0.1508 - val_loss: 7.9625\n",
      "Epoch 16/20\n",
      "\u001b[1m26/26\u001b[0m \u001b[32m━━━━━━━━━━━━━━━━━━━━\u001b[0m\u001b[37m\u001b[0m \u001b[1m58s\u001b[0m 2s/step - accuracy: 0.3081 - loss: 2.0069 - val_accuracy: 0.1608 - val_loss: 3.2200\n",
      "Epoch 17/20\n",
      "\u001b[1m26/26\u001b[0m \u001b[32m━━━━━━━━━━━━━━━━━━━━\u001b[0m\u001b[37m\u001b[0m \u001b[1m54s\u001b[0m 2s/step - accuracy: 0.3213 - loss: 1.9268 - val_accuracy: 0.1508 - val_loss: 3.5198\n",
      "Epoch 18/20\n",
      "\u001b[1m26/26\u001b[0m \u001b[32m━━━━━━━━━━━━━━━━━━━━\u001b[0m\u001b[37m\u001b[0m \u001b[1m50s\u001b[0m 2s/step - accuracy: 0.3198 - loss: 1.9559 - val_accuracy: 0.1809 - val_loss: 3.4143\n",
      "Epoch 19/20\n",
      "\u001b[1m26/26\u001b[0m \u001b[32m━━━━━━━━━━━━━━━━━━━━\u001b[0m\u001b[37m\u001b[0m \u001b[1m49s\u001b[0m 2s/step - accuracy: 0.3151 - loss: 1.9659 - val_accuracy: 0.1658 - val_loss: 3.4028\n",
      "Epoch 20/20\n",
      "\u001b[1m26/26\u001b[0m \u001b[32m━━━━━━━━━━━━━━━━━━━━\u001b[0m\u001b[37m\u001b[0m \u001b[1m49s\u001b[0m 2s/step - accuracy: 0.3490 - loss: 1.9261 - val_accuracy: 0.1558 - val_loss: 3.4079\n"
     ]
    }
   ],
   "source": [
    "epochs = 20  \n",
    "history = model.fit(\n",
    "    train_generator,\n",
    "    validation_data=validation_generator,\n",
    "    epochs=epochs\n",
    ")"
   ]
  },
  {
   "cell_type": "code",
   "execution_count": 15,
   "id": "7204edea-aeae-43f2-b06c-e1d1cee13b2f",
   "metadata": {},
   "outputs": [
    {
     "data": {
      "image/png": "[encoded data removed]",
      "text/plain": [
       "<Figure size 640x480 with 1 Axes>"
      ]
     },
     "metadata": {},
     "output_type": "display_data"
    }
   ],
   "source": [
    "plt.plot(history.history['accuracy'], label='Точность на обучающей выборке')\n",
    "plt.plot(history.history['val_accuracy'], label='Точность на валидационной выборке')\n",
    "plt.xlabel('Эпохи')\n",
    "plt.ylabel('Точность')\n",
    "plt.legend()\n",
    "plt.show()"
   ]
  },
  {
   "cell_type": "code",
   "execution_count": 16,
   "id": "cf188b1d-872e-42e2-aa54-85727f0344c2",
   "metadata": {},
   "outputs": [],
   "source": [
    "model.save('cat_classifier_model.keras')"
   ]
  },
  {
   "cell_type": "code",
   "execution_count": null,
   "id": "10999960-20e4-4b8a-a3d8-ac42efeae15a",
   "metadata": {},
   "outputs": [],
   "source": []
  }
 ],
 "metadata": {
  "kernelspec": {
   "display_name": "Python 3 (ipykernel)",
   "language": "python",
   "name": "python3"
  },
  "language_info": {
   "codemirror_mode": {
    "name": "ipython",
    "version": 3
   },
   "file_extension": ".py",
   "mimetype": "text/x-python",
   "name": "python",
   "nbconvert_exporter": "python",
   "pygments_lexer": "ipython3",
   "version": "3.10.11"
  }
 },
 "nbformat": 4,
 "nbformat_minor": 5
}
